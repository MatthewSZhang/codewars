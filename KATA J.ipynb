{
 "cells": [
  {
   "cell_type": "code",
   "execution_count": null,
   "metadata": {},
   "outputs": [],
   "source": [
    "# kata 1 Backwards Read Primes\n",
    "function backwards_prime(start, stop)\n",
    "    if start < 10\n",
    "        start = 13;\n",
    "    end\n",
    "    r = Int64[];\n",
    "    for p = start:stop\n",
    "        rp = parse(Int64, reverse(string(p)));\n",
    "        if isprime(p) && isprime(rp) && p != rp\n",
    "            push!(r, p)\n",
    "        end\n",
    "    end\n",
    "    return r\n",
    "end\n",
    "    \n",
    "function isprime(n)\n",
    "    sn = round(Int, sqrt(n))\n",
    "    c  = true;\n",
    "    for i = 2:sn\n",
    "        if n%i==0; c = false; break;end\n",
    "    end\n",
    "    return c\n",
    "end\n"
   ]
  }
 ],
 "metadata": {
  "kernelspec": {
   "display_name": "Julia 1.0.0",
   "language": "julia",
   "name": "julia-1.0"
  },
  "language_info": {
   "file_extension": ".jl",
   "mimetype": "application/julia",
   "name": "julia",
   "version": "1.0.0"
  }
 },
 "nbformat": 4,
 "nbformat_minor": 2
}
