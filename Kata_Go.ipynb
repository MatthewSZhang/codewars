{
 "cells": [
  {
   "cell_type": "code",
   "execution_count": 79,
   "metadata": {},
   "outputs": [],
   "source": [
    "// kata 1\n",
    "import \"sort\"\n",
    "\n",
    "func TwoOldestAges(ints []int) (r [2]int) {\n",
    "    sort.Sort(sort.Reverse(sort.IntSlice(ints)))\n",
    "    r = [2]int{ints[1], ints[0]}\n",
    "    return\n",
    "}"
   ]
  }
 ],
 "metadata": {
  "kernelspec": {
   "display_name": "Go",
   "language": "go",
   "name": "gophernotes"
  },
  "language_info": {
   "codemirror_mode": "",
   "file_extension": ".go",
   "mimetype": "",
   "name": "go",
   "nbconvert_exporter": "",
   "pygments_lexer": "",
   "version": "go1.9.1"
  }
 },
 "nbformat": 4,
 "nbformat_minor": 2
}
